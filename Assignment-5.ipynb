{
 "cells": [
  {
   "cell_type": "code",
   "execution_count": null,
   "id": "0e48bd3c",
   "metadata": {},
   "outputs": [],
   "source": [
    "# Question 1 .) What does an empty dictionary's code look like?\n",
    "\n",
    "Ans: An empty dictionary is often represented by two empty curly brackets\n",
    "     d = {} or d = dict()\n",
    "\n",
    "\n"
   ]
  },
  {
   "cell_type": "code",
   "execution_count": null,
   "id": "99d6c66e",
   "metadata": {},
   "outputs": [],
   "source": [
    "# Question 2.) what is the value of dictionary value with key 'foo' and the value 42 ?\n",
    "\n",
    "Ans: {'foo':42}"
   ]
  },
  {
   "cell_type": "code",
   "execution_count": null,
   "id": "a0e712ad",
   "metadata": {},
   "outputs": [],
   "source": [
    "# Question 3.) What is the most significant distinction between a dictionary and a list?\n",
    "\n",
    "Ans:  Dictionaries are represented by {} where as listed are represented by []\n",
    "      The Items stored in a dictionary are Unordered , while the items in a list are ordered"
   ]
  },
  {
   "cell_type": "code",
   "execution_count": null,
   "id": "6483abc3",
   "metadata": {},
   "outputs": [],
   "source": [
    "# Question 4.) What happens if you try to access spam ['foo'] if spam is {'bar':100} ?\n",
    "\n",
    "Ans:  we will get a keyError KeyError: 'foo'"
   ]
  },
  {
   "cell_type": "code",
   "execution_count": null,
   "id": "6606bb00",
   "metadata": {},
   "outputs": [],
   "source": [
    "# Question 5.) if a dictionary is stored in spam,what is the difference between the expressions 'cat' in spam and 'cat' in spam.keys() ?\n",
    "\n",
    "Ans: There is no difference . The operator checks whether a value exits as a key in the dictionary or not"
   ]
  },
  {
   "cell_type": "code",
   "execution_count": null,
   "id": "4ca59161",
   "metadata": {},
   "outputs": [],
   "source": [
    "# Question 6.) if a dictionary is stored in spam,what is the difference between the expressions 'cat' in spam and 'cat' in spam.values() ?\n",
    "\n",
    "Ans: 'cat' in spam checks whether there is a 'cat' key in the dictionary, while 'cat' in spam.values() checks whether there is a value 'cat' for one of the keys in spam."
   ]
  },
  {
   "cell_type": "code",
   "execution_count": null,
   "id": "319c03df",
   "metadata": {},
   "outputs": [],
   "source": [
    "# Question 7.) what is a shortcut for the following code ?\n",
    "# if 'color' not in spam: spam['color'] ='black'\n",
    "\n",
    "Ans: spam.setdefault('color','black')"
   ]
  },
  {
   "cell_type": "code",
   "execution_count": null,
   "id": "60c44c8c",
   "metadata": {},
   "outputs": [],
   "source": [
    "# Question 8.) How do you 'pretty print' dictionary values using which modules and function ?\n",
    "\n",
    "Ans: we can pretty print a dictionary using three functions\n",
    "\n",
    "1.) by using pprint() function of pprint module\n",
    "    Note: pprint() function doesnot prettify nested dictionaries\n",
    "3.) by using dumps() method of json module\n",
    "4.) by using dumps() method of yaml module"
   ]
  }
 ],
 "metadata": {
  "kernelspec": {
   "display_name": "Python 3 (ipykernel)",
   "language": "python",
   "name": "python3"
  },
  "language_info": {
   "codemirror_mode": {
    "name": "ipython",
    "version": 3
   },
   "file_extension": ".py",
   "mimetype": "text/x-python",
   "name": "python",
   "nbconvert_exporter": "python",
   "pygments_lexer": "ipython3",
   "version": "3.11.5"
  }
 },
 "nbformat": 4,
 "nbformat_minor": 5
}
